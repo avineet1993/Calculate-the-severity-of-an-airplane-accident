{
 "cells": [
  {
   "cell_type": "markdown",
   "metadata": {},
   "source": [
    "## HackerEarth Machine Learning challenge:Calculate the severity of an airplane accident\n",
    "\n"
   ]
  },
  {
   "cell_type": "markdown",
   "metadata": {},
   "source": [
    " "
   ]
  },
  {
   "cell_type": "code",
   "execution_count": 1,
   "metadata": {},
   "outputs": [],
   "source": [
    "import pandas as pd\n",
    "import numpy as np"
   ]
  },
  {
   "cell_type": "code",
   "execution_count": 2,
   "metadata": {},
   "outputs": [
    {
     "data": {
      "text/html": [
       "<div>\n",
       "<style scoped>\n",
       "    .dataframe tbody tr th:only-of-type {\n",
       "        vertical-align: middle;\n",
       "    }\n",
       "\n",
       "    .dataframe tbody tr th {\n",
       "        vertical-align: top;\n",
       "    }\n",
       "\n",
       "    .dataframe thead th {\n",
       "        text-align: right;\n",
       "    }\n",
       "</style>\n",
       "<table border=\"1\" class=\"dataframe\">\n",
       "  <thead>\n",
       "    <tr style=\"text-align: right;\">\n",
       "      <th></th>\n",
       "      <th>Severity</th>\n",
       "      <th>Safety_Score</th>\n",
       "      <th>Days_Since_Inspection</th>\n",
       "      <th>Total_Safety_Complaints</th>\n",
       "      <th>Control_Metric</th>\n",
       "      <th>Turbulence_In_gforces</th>\n",
       "      <th>Cabin_Temperature</th>\n",
       "      <th>Accident_Type_Code</th>\n",
       "      <th>Max_Elevation</th>\n",
       "      <th>Violations</th>\n",
       "      <th>Adverse_Weather_Metric</th>\n",
       "      <th>Accident_ID</th>\n",
       "    </tr>\n",
       "  </thead>\n",
       "  <tbody>\n",
       "    <tr>\n",
       "      <th>0</th>\n",
       "      <td>Minor_Damage_And_Injuries</td>\n",
       "      <td>49.223744</td>\n",
       "      <td>14</td>\n",
       "      <td>22</td>\n",
       "      <td>71.285324</td>\n",
       "      <td>0.272118</td>\n",
       "      <td>78.04</td>\n",
       "      <td>2</td>\n",
       "      <td>31335.476824</td>\n",
       "      <td>3</td>\n",
       "      <td>0.424352</td>\n",
       "      <td>7570</td>\n",
       "    </tr>\n",
       "    <tr>\n",
       "      <th>1</th>\n",
       "      <td>Minor_Damage_And_Injuries</td>\n",
       "      <td>62.465753</td>\n",
       "      <td>10</td>\n",
       "      <td>27</td>\n",
       "      <td>72.288058</td>\n",
       "      <td>0.423939</td>\n",
       "      <td>84.54</td>\n",
       "      <td>2</td>\n",
       "      <td>26024.711057</td>\n",
       "      <td>2</td>\n",
       "      <td>0.352350</td>\n",
       "      <td>12128</td>\n",
       "    </tr>\n",
       "    <tr>\n",
       "      <th>2</th>\n",
       "      <td>Significant_Damage_And_Fatalities</td>\n",
       "      <td>63.059361</td>\n",
       "      <td>13</td>\n",
       "      <td>16</td>\n",
       "      <td>66.362808</td>\n",
       "      <td>0.322604</td>\n",
       "      <td>78.86</td>\n",
       "      <td>7</td>\n",
       "      <td>39269.053927</td>\n",
       "      <td>3</td>\n",
       "      <td>0.003364</td>\n",
       "      <td>2181</td>\n",
       "    </tr>\n",
       "    <tr>\n",
       "      <th>3</th>\n",
       "      <td>Significant_Damage_And_Serious_Injuries</td>\n",
       "      <td>48.082192</td>\n",
       "      <td>11</td>\n",
       "      <td>9</td>\n",
       "      <td>74.703737</td>\n",
       "      <td>0.337029</td>\n",
       "      <td>81.79</td>\n",
       "      <td>3</td>\n",
       "      <td>42771.499200</td>\n",
       "      <td>1</td>\n",
       "      <td>0.211728</td>\n",
       "      <td>5946</td>\n",
       "    </tr>\n",
       "    <tr>\n",
       "      <th>4</th>\n",
       "      <td>Significant_Damage_And_Fatalities</td>\n",
       "      <td>26.484018</td>\n",
       "      <td>13</td>\n",
       "      <td>25</td>\n",
       "      <td>47.948952</td>\n",
       "      <td>0.541140</td>\n",
       "      <td>77.16</td>\n",
       "      <td>3</td>\n",
       "      <td>35509.228515</td>\n",
       "      <td>2</td>\n",
       "      <td>0.176883</td>\n",
       "      <td>9054</td>\n",
       "    </tr>\n",
       "  </tbody>\n",
       "</table>\n",
       "</div>"
      ],
      "text/plain": [
       "                                  Severity  Safety_Score  \\\n",
       "0                Minor_Damage_And_Injuries     49.223744   \n",
       "1                Minor_Damage_And_Injuries     62.465753   \n",
       "2        Significant_Damage_And_Fatalities     63.059361   \n",
       "3  Significant_Damage_And_Serious_Injuries     48.082192   \n",
       "4        Significant_Damage_And_Fatalities     26.484018   \n",
       "\n",
       "   Days_Since_Inspection  Total_Safety_Complaints  Control_Metric  \\\n",
       "0                     14                       22       71.285324   \n",
       "1                     10                       27       72.288058   \n",
       "2                     13                       16       66.362808   \n",
       "3                     11                        9       74.703737   \n",
       "4                     13                       25       47.948952   \n",
       "\n",
       "   Turbulence_In_gforces  Cabin_Temperature  Accident_Type_Code  \\\n",
       "0               0.272118              78.04                   2   \n",
       "1               0.423939              84.54                   2   \n",
       "2               0.322604              78.86                   7   \n",
       "3               0.337029              81.79                   3   \n",
       "4               0.541140              77.16                   3   \n",
       "\n",
       "   Max_Elevation  Violations  Adverse_Weather_Metric  Accident_ID  \n",
       "0   31335.476824           3                0.424352         7570  \n",
       "1   26024.711057           2                0.352350        12128  \n",
       "2   39269.053927           3                0.003364         2181  \n",
       "3   42771.499200           1                0.211728         5946  \n",
       "4   35509.228515           2                0.176883         9054  "
      ]
     },
     "execution_count": 2,
     "metadata": {},
     "output_type": "execute_result"
    }
   ],
   "source": [
    "df_train=pd.read_csv('train.csv')\n",
    "df_train.head()"
   ]
  },
  {
   "cell_type": "code",
   "execution_count": 3,
   "metadata": {},
   "outputs": [
    {
     "data": {
      "text/html": [
       "<div>\n",
       "<style scoped>\n",
       "    .dataframe tbody tr th:only-of-type {\n",
       "        vertical-align: middle;\n",
       "    }\n",
       "\n",
       "    .dataframe tbody tr th {\n",
       "        vertical-align: top;\n",
       "    }\n",
       "\n",
       "    .dataframe thead th {\n",
       "        text-align: right;\n",
       "    }\n",
       "</style>\n",
       "<table border=\"1\" class=\"dataframe\">\n",
       "  <thead>\n",
       "    <tr style=\"text-align: right;\">\n",
       "      <th></th>\n",
       "      <th>Safety_Score</th>\n",
       "      <th>Days_Since_Inspection</th>\n",
       "      <th>Total_Safety_Complaints</th>\n",
       "      <th>Control_Metric</th>\n",
       "      <th>Turbulence_In_gforces</th>\n",
       "      <th>Cabin_Temperature</th>\n",
       "      <th>Accident_Type_Code</th>\n",
       "      <th>Max_Elevation</th>\n",
       "      <th>Violations</th>\n",
       "      <th>Adverse_Weather_Metric</th>\n",
       "      <th>Accident_ID</th>\n",
       "    </tr>\n",
       "  </thead>\n",
       "  <tbody>\n",
       "    <tr>\n",
       "      <th>0</th>\n",
       "      <td>19.497717</td>\n",
       "      <td>16</td>\n",
       "      <td>6</td>\n",
       "      <td>72.151322</td>\n",
       "      <td>0.388959</td>\n",
       "      <td>78.32</td>\n",
       "      <td>4</td>\n",
       "      <td>37949.724386</td>\n",
       "      <td>2</td>\n",
       "      <td>0.069692</td>\n",
       "      <td>1</td>\n",
       "    </tr>\n",
       "    <tr>\n",
       "      <th>1</th>\n",
       "      <td>58.173516</td>\n",
       "      <td>15</td>\n",
       "      <td>3</td>\n",
       "      <td>64.585232</td>\n",
       "      <td>0.250841</td>\n",
       "      <td>78.60</td>\n",
       "      <td>7</td>\n",
       "      <td>30194.805567</td>\n",
       "      <td>2</td>\n",
       "      <td>0.002777</td>\n",
       "      <td>10</td>\n",
       "    </tr>\n",
       "    <tr>\n",
       "      <th>2</th>\n",
       "      <td>33.287671</td>\n",
       "      <td>15</td>\n",
       "      <td>3</td>\n",
       "      <td>64.721969</td>\n",
       "      <td>0.336669</td>\n",
       "      <td>86.96</td>\n",
       "      <td>6</td>\n",
       "      <td>17572.925484</td>\n",
       "      <td>1</td>\n",
       "      <td>0.004316</td>\n",
       "      <td>14</td>\n",
       "    </tr>\n",
       "    <tr>\n",
       "      <th>3</th>\n",
       "      <td>3.287671</td>\n",
       "      <td>21</td>\n",
       "      <td>5</td>\n",
       "      <td>66.362808</td>\n",
       "      <td>0.421775</td>\n",
       "      <td>80.86</td>\n",
       "      <td>3</td>\n",
       "      <td>40209.186341</td>\n",
       "      <td>2</td>\n",
       "      <td>0.199990</td>\n",
       "      <td>17</td>\n",
       "    </tr>\n",
       "    <tr>\n",
       "      <th>4</th>\n",
       "      <td>10.867580</td>\n",
       "      <td>18</td>\n",
       "      <td>2</td>\n",
       "      <td>56.107566</td>\n",
       "      <td>0.313228</td>\n",
       "      <td>79.22</td>\n",
       "      <td>2</td>\n",
       "      <td>35495.525408</td>\n",
       "      <td>2</td>\n",
       "      <td>0.483696</td>\n",
       "      <td>21</td>\n",
       "    </tr>\n",
       "  </tbody>\n",
       "</table>\n",
       "</div>"
      ],
      "text/plain": [
       "   Safety_Score  Days_Since_Inspection  Total_Safety_Complaints  \\\n",
       "0     19.497717                     16                        6   \n",
       "1     58.173516                     15                        3   \n",
       "2     33.287671                     15                        3   \n",
       "3      3.287671                     21                        5   \n",
       "4     10.867580                     18                        2   \n",
       "\n",
       "   Control_Metric  Turbulence_In_gforces  Cabin_Temperature  \\\n",
       "0       72.151322               0.388959              78.32   \n",
       "1       64.585232               0.250841              78.60   \n",
       "2       64.721969               0.336669              86.96   \n",
       "3       66.362808               0.421775              80.86   \n",
       "4       56.107566               0.313228              79.22   \n",
       "\n",
       "   Accident_Type_Code  Max_Elevation  Violations  Adverse_Weather_Metric  \\\n",
       "0                   4   37949.724386           2                0.069692   \n",
       "1                   7   30194.805567           2                0.002777   \n",
       "2                   6   17572.925484           1                0.004316   \n",
       "3                   3   40209.186341           2                0.199990   \n",
       "4                   2   35495.525408           2                0.483696   \n",
       "\n",
       "   Accident_ID  \n",
       "0            1  \n",
       "1           10  \n",
       "2           14  \n",
       "3           17  \n",
       "4           21  "
      ]
     },
     "execution_count": 3,
     "metadata": {},
     "output_type": "execute_result"
    }
   ],
   "source": [
    "df_test=pd.read_csv('test.csv')\n",
    "df_test.head()"
   ]
  },
  {
   "cell_type": "code",
   "execution_count": 4,
   "metadata": {},
   "outputs": [
    {
     "data": {
      "text/plain": [
       "Severity                   0\n",
       "Safety_Score               0\n",
       "Days_Since_Inspection      0\n",
       "Total_Safety_Complaints    0\n",
       "Control_Metric             0\n",
       "Turbulence_In_gforces      0\n",
       "Cabin_Temperature          0\n",
       "Accident_Type_Code         0\n",
       "Max_Elevation              0\n",
       "Violations                 0\n",
       "Adverse_Weather_Metric     0\n",
       "Accident_ID                0\n",
       "dtype: int64"
      ]
     },
     "execution_count": 4,
     "metadata": {},
     "output_type": "execute_result"
    }
   ],
   "source": [
    "df_train.isnull().sum()"
   ]
  },
  {
   "cell_type": "code",
   "execution_count": 5,
   "metadata": {},
   "outputs": [
    {
     "data": {
      "text/plain": [
       "Safety_Score               0\n",
       "Days_Since_Inspection      0\n",
       "Total_Safety_Complaints    0\n",
       "Control_Metric             0\n",
       "Turbulence_In_gforces      0\n",
       "Cabin_Temperature          0\n",
       "Accident_Type_Code         0\n",
       "Max_Elevation              0\n",
       "Violations                 0\n",
       "Adverse_Weather_Metric     0\n",
       "Accident_ID                0\n",
       "dtype: int64"
      ]
     },
     "execution_count": 5,
     "metadata": {},
     "output_type": "execute_result"
    }
   ],
   "source": [
    "df_test.isnull().sum()"
   ]
  },
  {
   "cell_type": "code",
   "execution_count": 6,
   "metadata": {},
   "outputs": [
    {
     "name": "stdout",
     "output_type": "stream",
     "text": [
      "<class 'pandas.core.frame.DataFrame'>\n",
      "RangeIndex: 10000 entries, 0 to 9999\n",
      "Data columns (total 12 columns):\n",
      "Severity                   10000 non-null object\n",
      "Safety_Score               10000 non-null float64\n",
      "Days_Since_Inspection      10000 non-null int64\n",
      "Total_Safety_Complaints    10000 non-null int64\n",
      "Control_Metric             10000 non-null float64\n",
      "Turbulence_In_gforces      10000 non-null float64\n",
      "Cabin_Temperature          10000 non-null float64\n",
      "Accident_Type_Code         10000 non-null int64\n",
      "Max_Elevation              10000 non-null float64\n",
      "Violations                 10000 non-null int64\n",
      "Adverse_Weather_Metric     10000 non-null float64\n",
      "Accident_ID                10000 non-null int64\n",
      "dtypes: float64(6), int64(5), object(1)\n",
      "memory usage: 937.6+ KB\n"
     ]
    }
   ],
   "source": [
    "df_train.info()"
   ]
  },
  {
   "cell_type": "code",
   "execution_count": 7,
   "metadata": {},
   "outputs": [
    {
     "data": {
      "text/plain": [
       "<bound method NDFrame.describe of                                      Severity  Safety_Score  \\\n",
       "0                   Minor_Damage_And_Injuries     49.223744   \n",
       "1                   Minor_Damage_And_Injuries     62.465753   \n",
       "2           Significant_Damage_And_Fatalities     63.059361   \n",
       "3     Significant_Damage_And_Serious_Injuries     48.082192   \n",
       "4           Significant_Damage_And_Fatalities     26.484018   \n",
       "5                   Minor_Damage_And_Injuries     43.333333   \n",
       "6                   Highly_Fatal_And_Damaging     22.009132   \n",
       "7                   Minor_Damage_And_Injuries     24.703196   \n",
       "8                   Highly_Fatal_And_Damaging     54.840183   \n",
       "9     Significant_Damage_And_Serious_Injuries     52.237443   \n",
       "10                  Highly_Fatal_And_Damaging     36.666667   \n",
       "11    Significant_Damage_And_Serious_Injuries     48.127854   \n",
       "12    Significant_Damage_And_Serious_Injuries     42.876712   \n",
       "13          Significant_Damage_And_Fatalities     63.652968   \n",
       "14                  Highly_Fatal_And_Damaging     26.027397   \n",
       "15                  Highly_Fatal_And_Damaging     49.589041   \n",
       "16                  Highly_Fatal_And_Damaging     10.867580   \n",
       "17          Significant_Damage_And_Fatalities     38.767123   \n",
       "18          Significant_Damage_And_Fatalities     78.219178   \n",
       "19          Significant_Damage_And_Fatalities     20.228311   \n",
       "20                  Minor_Damage_And_Injuries     52.465753   \n",
       "21                  Minor_Damage_And_Injuries     38.447489   \n",
       "22                  Highly_Fatal_And_Damaging     44.840183   \n",
       "23                  Minor_Damage_And_Injuries     43.881279   \n",
       "24          Significant_Damage_And_Fatalities     25.296804   \n",
       "25          Significant_Damage_And_Fatalities     61.826484   \n",
       "26          Significant_Damage_And_Fatalities     59.269406   \n",
       "27                  Highly_Fatal_And_Damaging     24.337900   \n",
       "28          Significant_Damage_And_Fatalities     55.022831   \n",
       "29                  Highly_Fatal_And_Damaging     65.753425   \n",
       "...                                       ...           ...   \n",
       "9970                Minor_Damage_And_Injuries     47.853881   \n",
       "9971  Significant_Damage_And_Serious_Injuries     54.474886   \n",
       "9972  Significant_Damage_And_Serious_Injuries     57.168950   \n",
       "9973                Highly_Fatal_And_Damaging     32.420091   \n",
       "9974                Minor_Damage_And_Injuries     29.817352   \n",
       "9975                Highly_Fatal_And_Damaging     33.835616   \n",
       "9976                Minor_Damage_And_Injuries     49.269406   \n",
       "9977        Significant_Damage_And_Fatalities     27.625571   \n",
       "9978                Minor_Damage_And_Injuries     42.420091   \n",
       "9979                Minor_Damage_And_Injuries     50.593607   \n",
       "9980  Significant_Damage_And_Serious_Injuries     33.242009   \n",
       "9981                Minor_Damage_And_Injuries     40.913242   \n",
       "9982                Highly_Fatal_And_Damaging     23.607306   \n",
       "9983                Highly_Fatal_And_Damaging     13.698630   \n",
       "9984                Minor_Damage_And_Injuries     34.155251   \n",
       "9985        Significant_Damage_And_Fatalities     42.968037   \n",
       "9986                Minor_Damage_And_Injuries     28.858447   \n",
       "9987  Significant_Damage_And_Serious_Injuries     49.817352   \n",
       "9988  Significant_Damage_And_Serious_Injuries     60.228311   \n",
       "9989                Minor_Damage_And_Injuries     20.867580   \n",
       "9990                Minor_Damage_And_Injuries     66.255708   \n",
       "9991                Highly_Fatal_And_Damaging     52.465753   \n",
       "9992                Highly_Fatal_And_Damaging     32.146119   \n",
       "9993  Significant_Damage_And_Serious_Injuries     31.095890   \n",
       "9994                Highly_Fatal_And_Damaging     41.552511   \n",
       "9995  Significant_Damage_And_Serious_Injuries     56.118721   \n",
       "9996                Highly_Fatal_And_Damaging     40.365297   \n",
       "9997  Significant_Damage_And_Serious_Injuries     27.853881   \n",
       "9998                Minor_Damage_And_Injuries     56.210046   \n",
       "9999                Highly_Fatal_And_Damaging     50.000000   \n",
       "\n",
       "      Days_Since_Inspection  Total_Safety_Complaints  Control_Metric  \\\n",
       "0                        14                       22       71.285324   \n",
       "1                        10                       27       72.288058   \n",
       "2                        13                       16       66.362808   \n",
       "3                        11                        9       74.703737   \n",
       "4                        13                       25       47.948952   \n",
       "5                        15                        0       73.336372   \n",
       "6                        15                       10       62.853236   \n",
       "7                        18                        4       60.802188   \n",
       "8                         5                       40       69.234275   \n",
       "9                         6                        4       57.429353   \n",
       "10                       11                       11       80.218778   \n",
       "11                       11                        2       62.807657   \n",
       "12                       12                       14       68.960802   \n",
       "13                       13                        4       78.669098   \n",
       "14                       14                        2       83.546035   \n",
       "15                        7                        1       85.551504   \n",
       "16                       18                        1       68.003646   \n",
       "17                       10                        4       37.830447   \n",
       "18                        8                        3       61.485871   \n",
       "19                       15                        2       41.567912   \n",
       "20                       13                        0       73.245214   \n",
       "21                       17                        5       74.931632   \n",
       "22                        8                        2       80.583409   \n",
       "23                       15                        1       68.003646   \n",
       "24                       14                        5       47.265269   \n",
       "25                       13                        7       66.134913   \n",
       "26                       14                        3       61.622607   \n",
       "27                       14                        0       70.783956   \n",
       "28                       15                        9       70.328168   \n",
       "29                        5                       20       48.131267   \n",
       "...                     ...                      ...             ...   \n",
       "9970                     14                        7       72.880583   \n",
       "9971                      9                        3       75.706472   \n",
       "9972                      8                        5       77.438469   \n",
       "9973                     12                        5       62.944394   \n",
       "9974                     16                        3       49.680948   \n",
       "9975                     11                        6       69.097539   \n",
       "9976                     14                        6       64.357338   \n",
       "9977                     13                        7       48.906108   \n",
       "9978                     12                        8       54.740201   \n",
       "9979                     13                       22       71.057429   \n",
       "9980                     15                        0       67.000912   \n",
       "9981                     16                        5       61.713765   \n",
       "9982                     14                        7       78.076572   \n",
       "9983                     18                        1       72.835005   \n",
       "9984                     18                        3       62.260711   \n",
       "9985                      9                        0       34.867821   \n",
       "9986                     16                        3       47.994531   \n",
       "9987                     10                        4       68.778487   \n",
       "9988                      4                        7       67.684594   \n",
       "9989                     19                        0       37.830447   \n",
       "9990                     12                        0       76.481313   \n",
       "9991                      9                        0       73.837739   \n",
       "9992                     12                        2       74.703737   \n",
       "9993                     16                        6       69.781222   \n",
       "9994                      9                        1       57.976299   \n",
       "9995                      8                        1       63.445761   \n",
       "9996                     10                        7       62.169553   \n",
       "9997                     17                        1       69.598906   \n",
       "9998                      8                        0       39.835916   \n",
       "9999                     13                        3       45.487694   \n",
       "\n",
       "      Turbulence_In_gforces  Cabin_Temperature  Accident_Type_Code  \\\n",
       "0                  0.272118              78.04                   2   \n",
       "1                  0.423939              84.54                   2   \n",
       "2                  0.322604              78.86                   7   \n",
       "3                  0.337029              81.79                   3   \n",
       "4                  0.541140              77.16                   3   \n",
       "5                  0.432954              78.63                   2   \n",
       "6                  0.314671              88.04                   4   \n",
       "7                  0.548353              83.48                   4   \n",
       "8                  0.335587              78.24                   2   \n",
       "9                  0.465410              79.56                   1   \n",
       "10                 0.452788              81.15                   2   \n",
       "11                 0.329096              77.80                   3   \n",
       "12                 0.159604              77.23                   3   \n",
       "13                 0.232089              80.78                   7   \n",
       "14                 0.362994              81.63                   3   \n",
       "15                 0.270314              78.86                   3   \n",
       "16                 0.309622              82.08                   6   \n",
       "17                 0.600282              80.82                   4   \n",
       "18                 0.338111              82.20                   2   \n",
       "19                 0.687191              78.37                   2   \n",
       "20                 0.221991              81.62                   2   \n",
       "21                 0.326571              79.31                   2   \n",
       "22                 0.249759              78.21                   4   \n",
       "23                 0.338472              78.97                   1   \n",
       "24                 0.594873              76.19                   5   \n",
       "25                 0.423217              78.07                   6   \n",
       "26                 0.331981              90.87                   7   \n",
       "27                 0.267790              76.75                   4   \n",
       "28                 0.512291              77.03                   7   \n",
       "29                 0.638147              79.75                   3   \n",
       "...                     ...                ...                 ...   \n",
       "9970               0.363715              78.51                   2   \n",
       "9971               0.384992              76.89                   3   \n",
       "9972               0.309983              80.78                   6   \n",
       "9973               0.350733              80.37                   4   \n",
       "9974               0.696568              81.39                   2   \n",
       "9975               0.241465              79.21                   4   \n",
       "9976               0.409875              77.78                   5   \n",
       "9977               0.438003              87.00                   2   \n",
       "9978               0.362633              86.57                   1   \n",
       "9979               0.205042              77.41                   4   \n",
       "9980               0.387516              79.14                   3   \n",
       "9981               0.512291              78.50                   5   \n",
       "9982               0.367682              78.54                   4   \n",
       "9983               0.217303              82.45                   7   \n",
       "9984               0.427184              82.31                   4   \n",
       "9985               0.619395              80.12                   4   \n",
       "9986               0.414563              78.13                   1   \n",
       "9987               0.343160              81.10                   3   \n",
       "9988               0.294476              80.44                   3   \n",
       "9989               0.571432              79.03                   3   \n",
       "9990               0.224876              83.21                   5   \n",
       "9991               0.369846              81.02                   4   \n",
       "9992               0.245071              75.89                   1   \n",
       "9993               0.317195              79.14                   4   \n",
       "9994               0.503996              79.33                   4   \n",
       "9995               0.482359              78.64                   5   \n",
       "9996               0.421775              79.77                   4   \n",
       "9997               0.318277              80.37                   3   \n",
       "9998               0.598118              76.92                   5   \n",
       "9999               0.382467              77.46                   5   \n",
       "\n",
       "      Max_Elevation  Violations  Adverse_Weather_Metric  Accident_ID  \n",
       "0      31335.476824           3                0.424352         7570  \n",
       "1      26024.711057           2                0.352350        12128  \n",
       "2      39269.053927           3                0.003364         2181  \n",
       "3      42771.499200           1                0.211728         5946  \n",
       "4      35509.228515           2                0.176883         9054  \n",
       "5      29288.448105           1                0.394505        10947  \n",
       "6      32342.109345           0                0.058872         4717  \n",
       "7      22547.195242           2                0.040419         8008  \n",
       "8      45751.983413           0                0.619186         8179  \n",
       "9      37933.399001           1                1.389295         6324  \n",
       "10     31463.568565           2                0.424912         3789  \n",
       "11     22570.030398           4                0.111873         8946  \n",
       "12     44697.868740           3                0.222510         3629  \n",
       "13     30882.726377           3                0.002567         2451  \n",
       "14     18915.509025           2                0.095806         4028  \n",
       "15     25083.657909           2                0.123761        10493  \n",
       "16     47893.717972           3                0.011242           20  \n",
       "17     35910.200412           1                0.066515         2064  \n",
       "18     34354.111221           2                0.462514         2765  \n",
       "19     11503.388561           1                0.159784         2938  \n",
       "20     39835.718310           1                0.538862        10309  \n",
       "21     37435.572795           2                0.508486         3918  \n",
       "22     45783.527661           0                0.083992         4830  \n",
       "23     45541.236753           2                1.664864         6630  \n",
       "24     49288.635507           3                0.032437        11434  \n",
       "25     42607.071097           1                0.010607        10987  \n",
       "26     32342.313384           3                0.003022         8830  \n",
       "27     26538.322263           1                0.048626         2237  \n",
       "28     28451.014701           0                0.002916         4196  \n",
       "29     39150.672196           1                0.194870         4755  \n",
       "...             ...         ...                     ...          ...  \n",
       "9970   39506.691424           1                0.532044         2639  \n",
       "9971   39092.058018           3                0.195685        10295  \n",
       "9972   27827.851427           0                0.006656         7482  \n",
       "9973   22817.294950           1                0.042284        11730  \n",
       "9974   27654.285015           3                0.374260         6540  \n",
       "9975   35553.185789           2                0.065012         2252  \n",
       "9976   12660.980282           1                0.008689         2180  \n",
       "9977   30701.490358           2                0.413995         5335  \n",
       "9978   26432.644879           2                0.972403         4986  \n",
       "9979   23734.751306           3                0.043585         3769  \n",
       "9980   34176.122716           3                0.171256         4486  \n",
       "9981   29541.265285           2                0.020208         7050  \n",
       "9982   55360.356917           2                0.114421         7875  \n",
       "9983   42627.763175           4                0.004191        11977  \n",
       "9984   29267.164873           3                0.053177         8835  \n",
       "9985   32628.399491           2                0.060404         8914  \n",
       "9986   24605.471319           1                0.890282         4875  \n",
       "9987   26335.223800           0                0.130517         4694  \n",
       "9988   30706.354766           1                0.153106         7975  \n",
       "9989   19797.321790           2                0.098919         3380  \n",
       "9990   38728.486502           2                0.025955          193  \n",
       "9991   37351.507472           2                0.067987        12323  \n",
       "9992   31531.796196           1                1.156478         9869  \n",
       "9993   39202.492521           1                0.071406         5842  \n",
       "9994   29224.022983           2                0.053848        11039  \n",
       "9995   38537.363408           2                0.026150        11493  \n",
       "9996   40846.916900           2                0.074898          305  \n",
       "9997   33771.996300           3                0.168173          612  \n",
       "9998   39820.419251           2                0.026381         4963  \n",
       "9999   26005.322987           2                0.017036         9387  \n",
       "\n",
       "[10000 rows x 12 columns]>"
      ]
     },
     "execution_count": 7,
     "metadata": {},
     "output_type": "execute_result"
    }
   ],
   "source": [
    "df_train.describe"
   ]
  },
  {
   "cell_type": "code",
   "execution_count": 8,
   "metadata": {},
   "outputs": [],
   "source": [
    "x_train=df_train.iloc[:,1:]\n",
    "y_train=df_train.iloc[:,0]"
   ]
  },
  {
   "cell_type": "code",
   "execution_count": 9,
   "metadata": {},
   "outputs": [],
   "source": [
    "final_pd= pd.concat([x_train,df_test],axis=0)"
   ]
  },
  {
   "cell_type": "markdown",
   "metadata": {},
   "source": [
    " "
   ]
  },
  {
   "cell_type": "code",
   "execution_count": 10,
   "metadata": {},
   "outputs": [],
   "source": [
    "#dum=pd.get_dummies(y_train,drop_first=True)\n",
    "#final_pd.drop(['Accident_Type_Code'],axis=1,inplace=True)"
   ]
  },
  {
   "cell_type": "code",
   "execution_count": 11,
   "metadata": {},
   "outputs": [],
   "source": [
    "final_pd.drop(['Accident_Type_Code'],axis=1,inplace=True)"
   ]
  },
  {
   "cell_type": "code",
   "execution_count": 12,
   "metadata": {},
   "outputs": [],
   "source": [
    "final_pd.drop(['Accident_ID'],axis=1,inplace=True)\n"
   ]
  },
  {
   "cell_type": "code",
   "execution_count": 16,
   "metadata": {},
   "outputs": [
    {
     "data": {
      "text/html": [
       "<div>\n",
       "<style scoped>\n",
       "    .dataframe tbody tr th:only-of-type {\n",
       "        vertical-align: middle;\n",
       "    }\n",
       "\n",
       "    .dataframe tbody tr th {\n",
       "        vertical-align: top;\n",
       "    }\n",
       "\n",
       "    .dataframe thead th {\n",
       "        text-align: right;\n",
       "    }\n",
       "</style>\n",
       "<table border=\"1\" class=\"dataframe\">\n",
       "  <thead>\n",
       "    <tr style=\"text-align: right;\">\n",
       "      <th></th>\n",
       "      <th>Safety_Score</th>\n",
       "      <th>Days_Since_Inspection</th>\n",
       "      <th>Total_Safety_Complaints</th>\n",
       "      <th>Control_Metric</th>\n",
       "      <th>Turbulence_In_gforces</th>\n",
       "      <th>Cabin_Temperature</th>\n",
       "      <th>Accident_Type_Code</th>\n",
       "      <th>Max_Elevation</th>\n",
       "      <th>Violations</th>\n",
       "      <th>Adverse_Weather_Metric</th>\n",
       "      <th>Accident_ID</th>\n",
       "    </tr>\n",
       "  </thead>\n",
       "  <tbody>\n",
       "    <tr>\n",
       "      <th>0</th>\n",
       "      <td>49.223744</td>\n",
       "      <td>14</td>\n",
       "      <td>22</td>\n",
       "      <td>71.285324</td>\n",
       "      <td>0.272118</td>\n",
       "      <td>78.04</td>\n",
       "      <td>2</td>\n",
       "      <td>31335.476824</td>\n",
       "      <td>3</td>\n",
       "      <td>0.424352</td>\n",
       "      <td>7570</td>\n",
       "    </tr>\n",
       "    <tr>\n",
       "      <th>1</th>\n",
       "      <td>62.465753</td>\n",
       "      <td>10</td>\n",
       "      <td>27</td>\n",
       "      <td>72.288058</td>\n",
       "      <td>0.423939</td>\n",
       "      <td>84.54</td>\n",
       "      <td>2</td>\n",
       "      <td>26024.711057</td>\n",
       "      <td>2</td>\n",
       "      <td>0.352350</td>\n",
       "      <td>12128</td>\n",
       "    </tr>\n",
       "    <tr>\n",
       "      <th>2</th>\n",
       "      <td>63.059361</td>\n",
       "      <td>13</td>\n",
       "      <td>16</td>\n",
       "      <td>66.362808</td>\n",
       "      <td>0.322604</td>\n",
       "      <td>78.86</td>\n",
       "      <td>7</td>\n",
       "      <td>39269.053927</td>\n",
       "      <td>3</td>\n",
       "      <td>0.003364</td>\n",
       "      <td>2181</td>\n",
       "    </tr>\n",
       "    <tr>\n",
       "      <th>3</th>\n",
       "      <td>48.082192</td>\n",
       "      <td>11</td>\n",
       "      <td>9</td>\n",
       "      <td>74.703737</td>\n",
       "      <td>0.337029</td>\n",
       "      <td>81.79</td>\n",
       "      <td>3</td>\n",
       "      <td>42771.499200</td>\n",
       "      <td>1</td>\n",
       "      <td>0.211728</td>\n",
       "      <td>5946</td>\n",
       "    </tr>\n",
       "    <tr>\n",
       "      <th>4</th>\n",
       "      <td>26.484018</td>\n",
       "      <td>13</td>\n",
       "      <td>25</td>\n",
       "      <td>47.948952</td>\n",
       "      <td>0.541140</td>\n",
       "      <td>77.16</td>\n",
       "      <td>3</td>\n",
       "      <td>35509.228515</td>\n",
       "      <td>2</td>\n",
       "      <td>0.176883</td>\n",
       "      <td>9054</td>\n",
       "    </tr>\n",
       "  </tbody>\n",
       "</table>\n",
       "</div>"
      ],
      "text/plain": [
       "   Safety_Score  Days_Since_Inspection  Total_Safety_Complaints  \\\n",
       "0     49.223744                     14                       22   \n",
       "1     62.465753                     10                       27   \n",
       "2     63.059361                     13                       16   \n",
       "3     48.082192                     11                        9   \n",
       "4     26.484018                     13                       25   \n",
       "\n",
       "   Control_Metric  Turbulence_In_gforces  Cabin_Temperature  \\\n",
       "0       71.285324               0.272118              78.04   \n",
       "1       72.288058               0.423939              84.54   \n",
       "2       66.362808               0.322604              78.86   \n",
       "3       74.703737               0.337029              81.79   \n",
       "4       47.948952               0.541140              77.16   \n",
       "\n",
       "   Accident_Type_Code  Max_Elevation  Violations  Adverse_Weather_Metric  \\\n",
       "0                   2   31335.476824           3                0.424352   \n",
       "1                   2   26024.711057           2                0.352350   \n",
       "2                   7   39269.053927           3                0.003364   \n",
       "3                   3   42771.499200           1                0.211728   \n",
       "4                   3   35509.228515           2                0.176883   \n",
       "\n",
       "   Accident_ID  \n",
       "0         7570  \n",
       "1        12128  \n",
       "2         2181  \n",
       "3         5946  \n",
       "4         9054  "
      ]
     },
     "execution_count": 16,
     "metadata": {},
     "output_type": "execute_result"
    }
   ],
   "source": [
    "#final_pd=pd.concat([final_pd,dum],axis=1)\n",
    "x_train.head()"
   ]
  },
  {
   "cell_type": "code",
   "execution_count": 14,
   "metadata": {},
   "outputs": [
    {
     "data": {
      "text/plain": [
       "(10000, 9)"
      ]
     },
     "execution_count": 14,
     "metadata": {},
     "output_type": "execute_result"
    }
   ],
   "source": [
    "X_train=final_pd.iloc[:10000,:]\n",
    "X_train.shape"
   ]
  },
  {
   "cell_type": "code",
   "execution_count": 15,
   "metadata": {},
   "outputs": [],
   "source": [
    "X_test=final_pd.iloc[10000:,:]\n"
   ]
  },
  {
   "cell_type": "markdown",
   "metadata": {},
   "source": [
    "## model"
   ]
  },
  {
   "cell_type": "code",
   "execution_count": 12,
   "metadata": {},
   "outputs": [
    {
     "data": {
      "text/plain": [
       "XGBClassifier(base_score=0.5, booster='gbtree', colsample_bylevel=1,\n",
       "              colsample_bynode=1, colsample_bytree=1, gamma=0,\n",
       "              learning_rate=0.1, max_delta_step=0, max_depth=3,\n",
       "              min_child_weight=1, missing=None, n_estimators=2600, n_jobs=1,\n",
       "              nthread=None, objective='multi:softprob', random_state=0,\n",
       "              reg_alpha=0, reg_lambda=0.16, scale_pos_weight=1, seed=None,\n",
       "              silent=None, subsample=1, verbosity=1)"
      ]
     },
     "execution_count": 12,
     "metadata": {},
     "output_type": "execute_result"
    }
   ],
   "source": [
    "from xgboost import XGBClassifier\n",
    "classifier=XGBClassifier(n_estimators=2600,reg_lambda=0.16,max_depth=3)\n",
    "classifier.fit(X_train, y_train)\n"
   ]
  },
  {
   "cell_type": "code",
   "execution_count": 13,
   "metadata": {},
   "outputs": [],
   "source": [
    "y_pred = classifier.predict(X_test)\n"
   ]
  },
  {
   "cell_type": "code",
   "execution_count": null,
   "metadata": {},
   "outputs": [],
   "source": [
    "from sklearn.model_selection import GridSearchCV\n",
    "parameters = [{'n_estimators': [2550,2600,2650,2700], 'reg_lambda': [0.16,0.155,0.15],'max_depth':[3,4,5]}]\n",
    "grid_search = GridSearchCV(estimator = classifier,\n",
    "                           param_grid = parameters,\n",
    "                           scoring = 'accuracy',\n",
    "                           cv = 10,\n",
    "                           n_jobs = -1)\n",
    "grid_search = grid_search.fit(X_train, y_train)\n",
    "best_accuracy = grid_search.best_score_\n",
    "best_parameters = grid_search.best_params_"
   ]
  },
  {
   "cell_type": "code",
   "execution_count": null,
   "metadata": {},
   "outputs": [],
   "source": [
    "best_parameters\n",
    "#best_accuracy"
   ]
  },
  {
   "cell_type": "code",
   "execution_count": 19,
   "metadata": {},
   "outputs": [
    {
     "data": {
      "text/plain": [
       "(2500,)"
      ]
     },
     "execution_count": 19,
     "metadata": {},
     "output_type": "execute_result"
    }
   ],
   "source": [
    "ID=df_test['Accident_ID']\n",
    "ID.shape"
   ]
  },
  {
   "cell_type": "code",
   "execution_count": 20,
   "metadata": {},
   "outputs": [
    {
     "data": {
      "text/plain": [
       "(10000, 9)"
      ]
     },
     "execution_count": 20,
     "metadata": {},
     "output_type": "execute_result"
    }
   ],
   "source": [
    "X_train.shape"
   ]
  },
  {
   "cell_type": "markdown",
   "metadata": {},
   "source": [
    "### output extraction"
   ]
  },
  {
   "cell_type": "code",
   "execution_count": 21,
   "metadata": {},
   "outputs": [],
   "source": [
    "pred=pd.DataFrame(y_pred)\n",
    "datasets=pd.concat([ID,pred], axis=1)\n"
   ]
  },
  {
   "cell_type": "code",
   "execution_count": 22,
   "metadata": {},
   "outputs": [],
   "source": [
    "datasets.columns =['Accident_ID', 'Severity']"
   ]
  },
  {
   "cell_type": "code",
   "execution_count": 23,
   "metadata": {},
   "outputs": [],
   "source": [
    "datasets.to_csv('pred.csv',index=False)"
   ]
  },
  {
   "cell_type": "markdown",
   "metadata": {},
   "source": [
    "HAPPY LEARNING  -- NIKIL REDDY"
   ]
  },
  {
   "cell_type": "markdown",
   "metadata": {},
   "source": [
    " "
   ]
  }
 ],
 "metadata": {
  "kernelspec": {
   "display_name": "Python 3",
   "language": "python",
   "name": "python3"
  },
  "language_info": {
   "codemirror_mode": {
    "name": "ipython",
    "version": 3
   },
   "file_extension": ".py",
   "mimetype": "text/x-python",
   "name": "python",
   "nbconvert_exporter": "python",
   "pygments_lexer": "ipython3",
   "version": "3.7.3"
  }
 },
 "nbformat": 4,
 "nbformat_minor": 2
}
